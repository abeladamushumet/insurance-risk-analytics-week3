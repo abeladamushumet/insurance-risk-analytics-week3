{
 "cells": [
  {
   "cell_type": "code",
   "execution_count": 16,
   "id": "ddf79867",
   "metadata": {},
   "outputs": [],
   "source": [
    "import pandas as pd\n",
    "import numpy as np\n",
    "import seaborn as sns\n",
    "import matplotlib.pyplot as plt\n",
    "from scipy.stats import ttest_ind, chi2_contingency, f_oneway, mannwhitneyu, kruskal"
   ]
  },
  {
   "cell_type": "code",
   "execution_count": 17,
   "id": "030a01db",
   "metadata": {},
   "outputs": [
    {
     "name": "stderr",
     "output_type": "stream",
     "text": [
      "C:\\Users\\hp\\AppData\\Local\\Temp\\ipykernel_16784\\2291897501.py:2: DtypeWarning: Columns (32,37) have mixed types. Specify dtype option on import or set low_memory=False.\n",
      "  df = pd.read_csv(r\"C:\\Users\\hp\\Desktop\\10 Acadamy\\VS code\\insurance-risk-analytics\\insurance-risk-analytics-week3\\data\\insurance_data_eda.csv\")\n"
     ]
    }
   ],
   "source": [
    "# Load cleaned dataset\n",
    "df = pd.read_csv(r\"C:\\Users\\hp\\Desktop\\10 Acadamy\\VS code\\insurance-risk-analytics\\insurance-risk-analytics-week3\\data\\insurance_data_eda.csv\")"
   ]
  },
  {
   "cell_type": "code",
   "execution_count": 18,
   "id": "99fc3b3a",
   "metadata": {},
   "outputs": [],
   "source": [
    "# Preprocessing: Create necessary metrics\n",
    "df['ClaimOccurred'] = (df['TotalClaims'] > 0).astype(int)\n",
    "df['ClaimSeverity'] = df['TotalClaims'] / df['ClaimOccurred'].replace(0, np.nan)\n",
    "df['Margin'] = df['TotalPremium'] - df['TotalClaims']"
   ]
  },
  {
   "cell_type": "code",
   "execution_count": 19,
   "id": "29a10f00",
   "metadata": {},
   "outputs": [],
   "source": [
    "# Claim Frequency (Chi-squared test)\n",
    "province_claims = pd.crosstab(df['Province'], df['ClaimOccurred'])\n",
    "chi2_stat, chi2_p, _, _ = chi2_contingency(province_claims)"
   ]
  },
  {
   "cell_type": "code",
   "execution_count": 20,
   "id": "55462142",
   "metadata": {},
   "outputs": [],
   "source": [
    "# Claim Severity (ANOVA)\n",
    "severity_groups = [group['ClaimSeverity'].dropna() for name, group in df.groupby('Province')]\n",
    "anova_stat, anova_p = f_oneway(*severity_groups)"
   ]
  },
  {
   "cell_type": "code",
   "execution_count": 21,
   "id": "7c69f0a3",
   "metadata": {},
   "outputs": [
    {
     "name": "stdout",
     "output_type": "stream",
     "text": [
      "H₀₁: Province vs Risk\n",
      "Chi-squared p-value (Claim Frequency): 0.0000\n",
      "ANOVA p-value (Claim Severity): 0.0000\n",
      "Reject H₀\n",
      "\n"
     ]
    }
   ],
   "source": [
    "print(\"H₀₁: Province vs Risk\")\n",
    "print(f\"Chi-squared p-value (Claim Frequency): {chi2_p:.4f}\")\n",
    "print(f\"ANOVA p-value (Claim Severity): {anova_p:.4f}\")\n",
    "print(\"Reject H₀\" if chi2_p < 0.05 or anova_p < 0.05 else \"Fail to reject H₀\")\n",
    "print()"
   ]
  },
  {
   "cell_type": "markdown",
   "id": "f0bb8c53",
   "metadata": {},
   "source": [
    "H₀₂: No Risk Differences Between Zipcodes"
   ]
  },
  {
   "cell_type": "code",
   "execution_count": 22,
   "id": "6b3ae77d",
   "metadata": {},
   "outputs": [],
   "source": [
    "top_zips = df['PostalCode'].value_counts().head(10).index\n",
    "df_zip = df[df['PostalCode'].isin(top_zips)]"
   ]
  },
  {
   "cell_type": "code",
   "execution_count": 23,
   "id": "ed7b0832",
   "metadata": {},
   "outputs": [],
   "source": [
    "# Claim Frequency (Chi-squared test)\n",
    "zip_claims = pd.crosstab(df_zip['PostalCode'], df_zip['ClaimOccurred'])\n",
    "chi2_zip_stat, chi2_zip_p, _, _ = chi2_contingency(zip_claims)"
   ]
  },
  {
   "cell_type": "code",
   "execution_count": 24,
   "id": "82a48aab",
   "metadata": {},
   "outputs": [],
   "source": [
    "# Claim Severity (ANOVA)\n",
    "zip_groups = [group['ClaimSeverity'].dropna() for name, group in df_zip.groupby('PostalCode')]\n",
    "anova_zip_stat, anova_zip_p = f_oneway(*zip_groups)\n",
    "\n",
    "\n"
   ]
  },
  {
   "cell_type": "code",
   "execution_count": 25,
   "id": "fd13ba67",
   "metadata": {},
   "outputs": [
    {
     "name": "stdout",
     "output_type": "stream",
     "text": [
      "H₀₂: Zipcode vs Risk\n",
      "Chi-squared p-value (Claim Frequency): 0.0000\n",
      "ANOVA p-value (Claim Severity): 0.0000\n",
      "Reject H₀\n",
      "\n"
     ]
    }
   ],
   "source": [
    "print(\"H₀₂: Zipcode vs Risk\")\n",
    "print(f\"Chi-squared p-value (Claim Frequency): {chi2_zip_p:.4f}\")\n",
    "print(f\"ANOVA p-value (Claim Severity): {anova_zip_p:.4f}\")\n",
    "print(\"Reject H₀\" if chi2_zip_p < 0.05 or anova_zip_p < 0.05 else \"Fail to reject H₀\")\n",
    "print()"
   ]
  },
  {
   "cell_type": "markdown",
   "id": "343a5b26",
   "metadata": {},
   "source": [
    "H₀₃: No Significant Margin Difference Between Zipcodes"
   ]
  },
  {
   "cell_type": "code",
   "execution_count": 26,
   "id": "f551b598",
   "metadata": {},
   "outputs": [
    {
     "name": "stdout",
     "output_type": "stream",
     "text": [
      "H₀₃: Zipcode vs Margin\n",
      "Kruskal-Wallis p-value: 0.0000\n",
      "Reject H₀\n",
      "\n"
     ]
    }
   ],
   "source": [
    "margin_groups = [group['Margin'].dropna() for name, group in df_zip.groupby('PostalCode')]\n",
    "kruskal_stat, kruskal_p = kruskal(*margin_groups)\n",
    "\n",
    "print(\"H₀₃: Zipcode vs Margin\")\n",
    "print(f\"Kruskal-Wallis p-value: {kruskal_p:.4f}\")\n",
    "print(\"Reject H₀\" if kruskal_p < 0.05 else \"Fail to reject H₀\")\n",
    "print()"
   ]
  },
  {
   "cell_type": "markdown",
   "id": "552b3cba",
   "metadata": {},
   "source": [
    "H₀₄: No Significant Risk Difference Between Women and Men"
   ]
  },
  {
   "cell_type": "code",
   "execution_count": 27,
   "id": "3cb970ee",
   "metadata": {},
   "outputs": [],
   "source": [
    "# Filter gender groups\n",
    "female = df[df['Gender'] == 'Female']\n",
    "male = df[df['Gender'] == 'Male']"
   ]
  },
  {
   "cell_type": "code",
   "execution_count": 28,
   "id": "5346ede4",
   "metadata": {},
   "outputs": [],
   "source": [
    "# Claim Frequency (Chi-squared)\n",
    "gender_claims = pd.crosstab(df['Gender'], df['ClaimOccurred'])\n",
    "chi2_gender_stat, chi2_gender_p, _, _ = chi2_contingency(gender_claims)"
   ]
  },
  {
   "cell_type": "code",
   "execution_count": 29,
   "id": "e3a465bb",
   "metadata": {},
   "outputs": [
    {
     "name": "stdout",
     "output_type": "stream",
     "text": [
      "H₀₄: Gender vs Risk\n",
      "Chi-squared p-value (Claim Frequency): 0.0266\n",
      "T-test p-value (Claim Severity): 0.5680\n",
      "Reject H₀\n",
      "\n"
     ]
    }
   ],
   "source": [
    "# Claim Severity (T-test)\n",
    "t_stat_gender, t_p_gender = ttest_ind(\n",
    "    female['ClaimSeverity'].dropna(),\n",
    "    male['ClaimSeverity'].dropna(),\n",
    "    equal_var=False\n",
    ")\n",
    "\n",
    "print(\"H₀₄: Gender vs Risk\")\n",
    "print(f\"Chi-squared p-value (Claim Frequency): {chi2_gender_p:.4f}\")\n",
    "print(f\"T-test p-value (Claim Severity): {t_p_gender:.4f}\")\n",
    "print(\"Reject H₀\" if chi2_gender_p < 0.05 or t_p_gender < 0.05 else \"Fail to reject H₀\")\n",
    "print()"
   ]
  },
  {
   "cell_type": "code",
   "execution_count": 30,
   "id": "98a915fd",
   "metadata": {},
   "outputs": [],
   "source": [
    "# Save results to CSV or Markdown table\n",
    "results = [\n",
    "    ['H₀₁', chi2_p, anova_p, chi2_p < 0.05 or anova_p < 0.05],\n",
    "    ['H₀₂', chi2_zip_p, anova_zip_p, chi2_zip_p < 0.05 or anova_zip_p < 0.05],\n",
    "    ['H₀₃', None, kruskal_p, kruskal_p < 0.05],\n",
    "    ['H₀₄', chi2_gender_p, t_p_gender, chi2_gender_p < 0.05 or t_p_gender < 0.05],\n",
    "]\n",
    "\n",
    "result_df = pd.DataFrame(results, columns=['Hypothesis', 'p_val_1', 'p_val_2', 'Reject_H₀'])\n",
    "result_df.to_csv(\"task3_hypothesis_results.csv\", index=False)"
   ]
  }
 ],
 "metadata": {
  "kernelspec": {
   "display_name": "Python 3",
   "language": "python",
   "name": "python3"
  },
  "language_info": {
   "codemirror_mode": {
    "name": "ipython",
    "version": 3
   },
   "file_extension": ".py",
   "mimetype": "text/x-python",
   "name": "python",
   "nbconvert_exporter": "python",
   "pygments_lexer": "ipython3",
   "version": "3.13.3"
  }
 },
 "nbformat": 4,
 "nbformat_minor": 5
}
